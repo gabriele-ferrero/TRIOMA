{
 "cells": [
  {
   "cell_type": "code",
   "execution_count": 1,
   "metadata": {},
   "outputs": [
    {
     "name": "stdout",
     "output_type": "stream",
     "text": [
      "PAV 0.003270964016294212 Coms= 0.0033502449679335146 % diff= -7.928095163930267e-05 % rel_diff= 2.4237793887174215 %\n"
     ]
    }
   ],
   "source": [
    "###IMPORT MODULES\n",
    "import sys\n",
    "import os\n",
    "sys.path.append(os.path.abspath('../..'))\n",
    "\n",
    "import numpy as np \n",
    "from tools.component_tools import Component\n",
    "from tools.component_tools import Fluid\n",
    "from tools.component_tools import Membrane\n",
    "import tools.materials as materials\n",
    "import matplotlib.pyplot as plt\n",
    "from scipy.interpolate import griddata\n",
    "from tools.component_tools import BreedingBlanket\n",
    "import mph \n",
    "from tools.component_tools import Geometry\n",
    "\n",
    "\n",
    "U0=2\n",
    "eff_coms_v=np.array([])\n",
    "eff_py=np.array([])\n",
    "client = mph.start()\n",
    "model = client.load('PAV_onlysolid.mph')  \n",
    "\n",
    "\n",
    "# U0=1.5\n",
    "T=800\n",
    "c0=1E-2\n",
    "mat=materials.Flibe(T)\n",
    "T_hot_prim=900\n",
    "T_cold_prim=800\n",
    "Q=1E9\n",
    "d_hyd=1E-2\n",
    "L=5\n",
    "D=1E-9\n",
    "thick=2E-3\n",
    "K_S=20\n",
    "k_d=1E6\n",
    "k_r=1E6\n",
    "K_H=1E-2\n",
    "flibe=Fluid(T=T, Solubility=K_H, MS=False,D=mat.D, d_Hyd=d_hyd ,mu=mat.mu,rho=mat.rho,U0=U0,k=mat.k,\n",
    "        cp=mat.cp)\n",
    "var_vec=[T,c0*K_S/K_H,d_hyd,L,D,thick,K_S,K_H,mat.D,U0]\n",
    "var_vec_str=['T','c0','d_hyd','L','D_St','thick','K_S','K_H','D_flibe','U0']\n",
    "Steel = Membrane( T=T,\n",
    "        D=D,\n",
    "        thick=thick,\n",
    "        K_S=K_S,\n",
    "        k_d=k_d,\n",
    "        k_r=k_r,k=21)\n",
    "geom_pav=Geometry(L=L, D=d_hyd,thick=thick )\n",
    "PAV = Component(c_in=c0,  fluid=flibe, membrane=Steel,geometry=geom_pav)\n",
    "PAV.get_solid_inventory()\n",
    "for i,var in enumerate(var_vec):\n",
    "        model.parameter(var_vec_str[i], str(var))\n",
    "model.mesh()\n",
    "a=model.parameters()\n",
    "# model.save()\n",
    "\n",
    "model.solve()\n",
    "# Evaluate the results\n",
    "eff_coms = model.evaluate(['r', 'z', 'inv'], 'Study 1//Solution 1')\n",
    "\n",
    "# Remove NaN values from the 'inv' component\n",
    "inv_values = eff_coms[-1]  # Assuming 'inv' is the last component\n",
    "inv_values = inv_values[~np.isnan(inv_values)]\n",
    "\n",
    "# Calculate the average of the cleaned 'inv' values\n",
    "eff_coms_avg = np.average(inv_values)\n",
    "\n",
    "# Append the average to the eff_coms_v array\n",
    "eff_coms_v = np.append(eff_coms_v, eff_coms_avg)\n",
    "\n",
    "# Print the results\n",
    "print(\"PAV\", (PAV.membrane.inv), \"Coms=\", eff_coms_avg, \"%\", \"diff=\", PAV.membrane.inv - eff_coms_avg, \"%\", \"rel_diff=\", (abs(PAV.membrane.inv - eff_coms_avg) / PAV.membrane.inv) * 100, \"%\")\n",
    "\n",
    "# Append the PAV membrane inventory to the eff_py array\n"
   ]
  },
  {
   "cell_type": "code",
   "execution_count": 2,
   "metadata": {},
   "outputs": [
    {
     "name": "stdout",
     "output_type": "stream",
     "text": [
      "ratio 0.9763357747274808\n"
     ]
    }
   ],
   "source": [
    "\n",
    "print(\"ratio\", PAV.membrane.inv/eff_coms_avg)\n",
    "\n",
    "# Remove the model from the client\n",
    "client.remove(model)\n"
   ]
  }
 ],
 "metadata": {
  "kernelspec": {
   "display_name": "base",
   "language": "python",
   "name": "python3"
  },
  "language_info": {
   "codemirror_mode": {
    "name": "ipython",
    "version": 3
   },
   "file_extension": ".py",
   "mimetype": "text/x-python",
   "name": "python",
   "nbconvert_exporter": "python",
   "pygments_lexer": "ipython3",
   "version": "3.11.7"
  }
 },
 "nbformat": 4,
 "nbformat_minor": 2
}
