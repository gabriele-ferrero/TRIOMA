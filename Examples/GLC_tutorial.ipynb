{
 "cells": [
  {
   "cell_type": "code",
   "execution_count": 1,
   "metadata": {},
   "outputs": [
    {
     "name": "stdout",
     "output_type": "stream",
     "text": [
      "30.212997495461888 0.004873070573395917\n",
      "28.085321615499783 0.003928596589236866\n",
      "29.361927143477047 0.00412525021157648\n",
      "42.5535175992421 0.0038782808763153454\n",
      "25.957645735537678 0.005054425415139703\n",
      "28.936391967484624 0.004499560386868871\n",
      "28.936391967484624 0.00516701987252399\n",
      "42.5535175992421 0.006985647996240323\n",
      "29.787462319469466 0.006115638885991319\n"
     ]
    }
   ],
   "source": [
    "\n",
    "import sys\n",
    "import os\n",
    "sys.path.append(os.path.abspath('..'))\n",
    "from tools.component_tools import GLC,GLC_Gas,Fluid\n",
    "import numpy as np \n",
    "R_const=8.314\n",
    "T = [673, 673, 673, 673, 713, 713, 713, 713, 713]\n",
    "Z = 0.6\n",
    "R = 0.0547/2\n",
    "Q_l = [\n",
    "    71.0    * 1e-3 / 3600,\n",
    "    66      * 1e-3 / 3600,\n",
    "    69      * 1e-3 / 3600,\n",
    "    100     * 1e-3 / 3600,\n",
    "    61      * 1e-3 / 3600,\n",
    "    68      * 1e-3 / 3600,\n",
    "    68      * 1e-3 / 3600,\n",
    "    100     * 1e-3 / 3600,\n",
    "    70      * 1e-3 / 3600,\n",
    "]\n",
    "Q_gas = [\n",
    "    3 * 1e-3 / 3600,\n",
    "    6 * 1e-3 / 3600,\n",
    "    9 * 1e-3 / 3600,\n",
    "    6 * 1e-3 / 3600,\n",
    "    3 * 1e-3 / 3600,\n",
    "    6 * 1e-3 / 3600,\n",
    "    9 * 1e-3 / 3600,\n",
    "    6 * 1e-3 / 3600,\n",
    "    6 * 1e-3 / 3600,\n",
    "]\n",
    "p_in = [1085, 1003, 927, 1188, 1258, 1152, 1158, 1228, 2490]\n",
    "p_out = [653, 613, 557, 858, 682, 670, 612, 712, 1215]\n",
    "B_vec = []\n",
    "kl_vec = []\n",
    "for i in range(len(Q_gas)):\n",
    "    SweepGas=GLC_Gas(G_gas=Q_gas[i],pg_in=0,p_tot=1.5E5)\n",
    "    \n",
    "    PbLi=Fluid(Solubility=1.33E-4*np.exp(-1350/R_const/T[i]),MS=False )\n",
    "    c_in=p_in[i]**0.5*PbLi.Solubility\n",
    "    Melodie=GLC(H=Z,R=R,c_in=p_in[i]**0.5*PbLi.Solubility,fluid=PbLi,GLC_gas=SweepGas,T=T[i],G_L=Q_l[i],c_out=p_out[i]**0.5*PbLi.Solubility)\n",
    "    [a,b] = Melodie.get_kla_from_cout()\n",
    "    print(a, b)\n",
    "    B_vec.append(a)\n",
    "    kl_vec.append(b)\n",
    "\n"
   ]
  },
  {
   "cell_type": "markdown",
   "metadata": {},
   "source": [
    "if done correctly the results should be the same as this table\n",
    "| B         | kla$$10^3$$    |\n",
    "|-----------|----------------|\n",
    "| 30.2      | 4.87           |\n",
    "| 28.0      | 3.92           |\n",
    "| 29.4      | 4.13           |\n",
    "| 42.6      | 3.88           |\n",
    "| 26.0      | 5.06           |\n",
    "| 28.9      | 4.50           |\n",
    "| 28.9      | 5.16           |\n",
    "| 42.6      | 6.99           |\n",
    "| 29.8      | 6.12           |\n",
    "| 28.2      | 2.84           |\n",
    "| 14.1      | 2.12           |\n",
    "| 14.1      | 1.90           |\n",
    "| 14.1      | 1.66           |\n",
    "| 14.1      | 1.73           |\n",
    "\n"
   ]
  },
  {
   "cell_type": "code",
   "execution_count": 2,
   "metadata": {},
   "outputs": [
    {
     "name": "stdout",
     "output_type": "stream",
     "text": [
      "28.294212105225842 0.002847199560353614\n",
      "14.147106052612921 0.002126282086634865\n",
      "14.147106052612921 0.0019059006958863619\n",
      "14.147106052612921 0.0016619703471135925\n",
      "14.147106052612921 0.0017339951739678446\n"
     ]
    }
   ],
   "source": [
    "# reset notebook\n",
    "%reset -f\n",
    "from tools.component_tools import GLC,GLC_Gas,Fluid\n",
    "import numpy as np \n",
    "R_const=8.31\n",
    "T = [673, 673, 673, 673, 673]\n",
    "Z = 0.8\n",
    "R = 0.03\n",
    "Q_l = [\n",
    "    80.0 * 1e-3 / 3600,\n",
    "    40   * 1e-3 / 3600,\n",
    "    40   * 1e-3 / 3600,\n",
    "    40   * 1e-3 / 3600,\n",
    "    40   * 1e-3 / 3600,\n",
    "]\n",
    "Q_gas = [\n",
    "    6 * 1e-3 / 3600,\n",
    "    6 * 1e-3 / 3600,\n",
    "    30 * 1e-3 / 3600,\n",
    "    6 * 1e-3 / 3600,\n",
    "    6 * 1e-3 / 3600,\n",
    "]\n",
    "p_in = [1275, 1050, 988, 463, 225]\n",
    "p_out = [796, 515, 484, 267, 130]\n",
    "B_vec = []\n",
    "kl_vec = []\n",
    "\n",
    "for i in range(len(Q_gas)):\n",
    "    SweepGas=GLC_Gas(G_gas=Q_gas[i],pg_in=0,p_tot=1.5E5)\n",
    "    \n",
    "    PbLi=Fluid(Solubility=1.33E-4*np.exp(-1350/R_const/T[i]),MS=False )\n",
    "    c_in=p_in[i]**0.5*PbLi.Solubility\n",
    "    Melodie=GLC(H=Z,R=R,c_in=p_in[i]**0.5*PbLi.Solubility,fluid=PbLi,GLC_gas=SweepGas,T=T[i],G_L=Q_l[i],c_out=p_out[i]**0.5*PbLi.Solubility)\n",
    "    [a,b] = Melodie.get_kla_from_cout()\n",
    "    print(a, b)\n",
    "    B_vec.append(a)\n",
    "    kl_vec.append(b)\n"
   ]
  }
 ],
 "metadata": {
  "kernelspec": {
   "display_name": "base",
   "language": "python",
   "name": "python3"
  },
  "language_info": {
   "codemirror_mode": {
    "name": "ipython",
    "version": 3
   },
   "file_extension": ".py",
   "mimetype": "text/x-python",
   "name": "python",
   "nbconvert_exporter": "python",
   "pygments_lexer": "ipython3",
   "version": "3.11.7"
  }
 },
 "nbformat": 4,
 "nbformat_minor": 2
}
