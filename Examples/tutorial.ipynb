{
 "cells": [
  {
   "cell_type": "code",
   "execution_count": 7,
   "metadata": {},
   "outputs": [],
   "source": [
    "\n",
    "import sys\n",
    "import os\n",
    "sys.path.append(os.path.abspath('..'))\n",
    "from tools.component_tools import Component\n",
    "from tools.component_tools import Fluid\n",
    "from tools.component_tools import Membrane, Geometry\n",
    "import tools.materials as materials"
   ]
  },
  {
   "cell_type": "markdown",
   "metadata": {},
   "source": [
    "Let's define a Pipe component. A Component is made of a fluid class, flowing inside the pipe, and a membrane class, which is the pipe. To define a fluid class we can define all properties or use pre-built materials with the set_properties_from_fluid_material method (which takes as input a Fluid material class, here returned by the material.Flibe function).\n",
    "Component specific properties of the fluid representation, such as Temperature, hydraulic diameter and fluid velocity, are not material independent, so they must be specified by the user. "
   ]
  },
  {
   "cell_type": "code",
   "execution_count": 8,
   "metadata": {},
   "outputs": [],
   "source": [
    "T=973.15\n",
    "d_hyd=25.4E-3\n",
    "U0=2.5\n",
    "flibe=Fluid(d_Hyd=d_hyd,U0=U0)\n",
    "flibe.set_properties_from_fluid_material(materials.Flibe(T))"
   ]
  },
  {
   "cell_type": "markdown",
   "metadata": {},
   "source": [
    "With ease we can define a membrane, the solid material of the pipe. Geometric properties (not material-dependent) only include the thickness of the pipe. "
   ]
  },
  {
   "cell_type": "code",
   "execution_count": 9,
   "metadata": {},
   "outputs": [],
   "source": [
    "Steel = Membrane( thick=0.25E-3,k_r=1E9,k_d=1E9)\n",
    "Steel.set_properties_from_solid_material(materials.Steel(T))"
   ]
  },
  {
   "cell_type": "markdown",
   "metadata": {},
   "source": [
    "Now we define a component. It takes as input a fluid, a membrane and the inlet concentration of the component. The inlet concentration is not defined by the fluid class as some other components such as the Breeding Blanket may behave differently. The lenght is a characteristic of the component, but it can be evaluated with some component methods itself (e.g: heat exchangers), therefore it is used as argument of the methods which need it and is treated as an external variable (this may change)"
   ]
  },
  {
   "cell_type": "code",
   "execution_count": 10,
   "metadata": {},
   "outputs": [],
   "source": [
    "PAV_geom=Geometry(L=1,D=25.4E-3, thick=0.25E-3)\n",
    "c_in=1E-3\n",
    "PAV = Component(c_in=c_in, geometry=PAV_geom,fluid=flibe, membrane=Steel) "
   ]
  },
  {
   "cell_type": "markdown",
   "metadata": {},
   "source": [
    "Now we can use pre-built methods to evaluate the T extraction efficiency of the component and the outlet concentration."
   ]
  },
  {
   "cell_type": "code",
   "execution_count": 11,
   "metadata": {},
   "outputs": [],
   "source": [
    "PAV.get_efficiency(c_guess=c_in/1E3)\n",
    "PAV.outlet_c_comp()"
   ]
  },
  {
   "cell_type": "markdown",
   "metadata": {},
   "source": [
    "We can also inspect component variables. "
   ]
  },
  {
   "cell_type": "code",
   "execution_count": 12,
   "metadata": {},
   "outputs": [
    {
     "name": "stdout",
     "output_type": "stream",
     "text": [
      "eff: 0.009232627410263143\n",
      "eff_an: 0.009232227333490273\n",
      "Relative efficiency error 4.333292735561642e-05\n"
     ]
    }
   ],
   "source": [
    "PAV.analytical_efficiency()\n",
    "PAV.inspect(\"eff\")\n",
    "PAV.inspect(\"eff_an\")\n",
    "print(\"Relative efficiency error\",abs(PAV.eff-PAV.eff_an)/PAV.eff)"
   ]
  },
  {
   "cell_type": "markdown",
   "metadata": {},
   "source": [
    "Or inspect the whole component together with the Fluid class and Membrane class by using the inspect method without an argument"
   ]
  },
  {
   "cell_type": "code",
   "execution_count": 13,
   "metadata": {},
   "outputs": [
    {
     "name": "stdout",
     "output_type": "stream",
     "text": [
      "c_in: 0.001\n",
      "geometry is a <class 'tools.component_tools.Geometry'> class, printing its variables:\n",
      "    L: 1\n",
      "    D: 0.0254\n",
      "    thick: 0.00025\n",
      "    n_pipes: 1\n",
      "eff: 0.009232627410263143\n",
      "n_pipes: (1,)\n",
      "fluid is a <class 'tools.component_tools.Fluid'> class, printing its variables:\n",
      "    T: 973.15\n",
      "    Solubility: 0.000454\n",
      "    MS: True\n",
      "    D: 5.176263854774369e-09\n",
      "    k_t: 0.00016239397747749114\n",
      "    d_Hyd: 0.0254\n",
      "    mu: 0.005498297045533315\n",
      "    rho: 1938.1028000000001\n",
      "    U0: 2.5\n",
      "    k: 1.1\n",
      "    cp: 2386\n",
      "membrane is a <class 'tools.component_tools.Membrane'> class, printing its variables:\n",
      "    T: 973.15\n",
      "    D: 1.604499778787223e-10\n",
      "    thick: 0.00025\n",
      "    k_d: 1000000000.0\n",
      "    K_S: 1\n",
      "    k_r: 1000000000.0\n",
      "    k: None\n",
      "H: 1.35635767164547e+16\n",
      "W: 4624900740437019.0\n",
      "J_perm: -2.9188120251443843e-07\n",
      "c_out: 0.0009907673725897369\n",
      "tau: 0.010229541888345899\n",
      "epsilon: 2.1926203098999832\n",
      "eff_an: 0.009232227333490273\n"
     ]
    }
   ],
   "source": [
    "PAV.inspect()"
   ]
  }
 ],
 "metadata": {
  "kernelspec": {
   "display_name": "Python 3",
   "language": "python",
   "name": "python3"
  },
  "language_info": {
   "codemirror_mode": {
    "name": "ipython",
    "version": 3
   },
   "file_extension": ".py",
   "mimetype": "text/x-python",
   "name": "python",
   "nbconvert_exporter": "python",
   "pygments_lexer": "ipython3",
   "version": "3.11.7"
  }
 },
 "nbformat": 4,
 "nbformat_minor": 2
}
